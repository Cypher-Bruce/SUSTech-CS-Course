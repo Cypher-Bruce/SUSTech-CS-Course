{
 "cells": [
  {
   "attachments": {},
   "cell_type": "markdown",
   "metadata": {},
   "source": [
    "# NumPy Exercise"
   ]
  },
  {
   "cell_type": "code",
   "execution_count": 1,
   "metadata": {},
   "outputs": [],
   "source": [
    "\n",
    "import numpy as np\n",
    "    "
   ]
  },
  {
   "cell_type": "markdown",
   "metadata": {},
   "source": [
    "### 1. Array creation and basic operations"
   ]
  },
  {
   "cell_type": "code",
   "execution_count": 2,
   "metadata": {},
   "outputs": [
    {
     "name": "stdout",
     "output_type": "stream",
     "text": [
      "[[ 1  3 19  4 75 23 43  2 33 15]\n",
      " [68  5 84 72 85 29 44 61 28 86]\n",
      " [28 16 48 93 96 59 97 24 58 73]\n",
      " [14 39 36 23 23 60 73 75 54 41]\n",
      " [ 3 11 71 80 66  9 69 98 90 18]\n",
      " [17 73 98 55 13 25 51 73 89 72]\n",
      " [86 42 14 60 39  7 54 21 75  2]\n",
      " [ 1 70 67 40 77 36  8 44 69 22]\n",
      " [78 31 38 89 21 54 11 14 81  3]\n",
      " [54 67 93 82 55 87 82 78 71 38]]\n"
     ]
    }
   ],
   "source": [
    "\n",
    "# (1) Create a 10x10 random array with values between 0 and 100 (int)\n",
    "arr = np.random.randint(0, 100, (10, 10))\n",
    "print(arr)\n",
    "    "
   ]
  },
  {
   "cell_type": "code",
   "execution_count": 3,
   "metadata": {},
   "outputs": [
    {
     "name": "stdout",
     "output_type": "stream",
     "text": [
      "Min: 1 Max: 98 Mean: 48.52\n"
     ]
    }
   ],
   "source": [
    "\n",
    "# (2) Calculate the minimum, maximum, and mean of the array\n",
    "min_value = np.min(arr)\n",
    "max_value = np.max(arr)\n",
    "mean_value = np.mean(arr)\n",
    "\n",
    "print(\"Min:\", min_value, \"Max:\", max_value, \"Mean:\", mean_value)\n",
    "    "
   ]
  },
  {
   "cell_type": "code",
   "execution_count": 4,
   "metadata": {},
   "outputs": [
    {
     "name": "stdout",
     "output_type": "stream",
     "text": [
      "Row sum: [350 357 568 598 550 389 532 490 648 370]\n",
      "Column sum: [218 562 592 438 515 566 400 434 420 707]\n"
     ]
    }
   ],
   "source": [
    "\n",
    "# (3) Compute the sum of the array along rows or columns\n",
    "row_sum = np.sum(arr, axis=0)\n",
    "col_sum = np.sum(arr, axis=1)\n",
    "\n",
    "print(\"Row sum:\", row_sum)\n",
    "print(\"Column sum:\", col_sum)\n",
    "    "
   ]
  },
  {
   "attachments": {},
   "cell_type": "markdown",
   "metadata": {},
   "source": [
    "### 2. Array reshaping and merging"
   ]
  },
  {
   "cell_type": "code",
   "execution_count": 5,
   "metadata": {},
   "outputs": [
    {
     "name": "stdout",
     "output_type": "stream",
     "text": [
      "Reshaped array: [[ 1  3 19  4 75 23 43  2 33 15 68  5 84 72 85 29 44 61 28 86]\n",
      " [28 16 48 93 96 59 97 24 58 73 14 39 36 23 23 60 73 75 54 41]\n",
      " [ 3 11 71 80 66  9 69 98 90 18 17 73 98 55 13 25 51 73 89 72]\n",
      " [86 42 14 60 39  7 54 21 75  2  1 70 67 40 77 36  8 44 69 22]\n",
      " [78 31 38 89 21 54 11 14 81  3 54 67 93 82 55 87 82 78 71 38]]\n"
     ]
    }
   ],
   "source": [
    "\n",
    "# (1) Reshape the array into a 5x20 array\n",
    "reshaped_array = np.reshape(arr, (5, 20))\n",
    "print(\"Reshaped array:\", reshaped_array)\n",
    "    "
   ]
  },
  {
   "cell_type": "code",
   "execution_count": 6,
   "metadata": {},
   "outputs": [
    {
     "name": "stdout",
     "output_type": "stream",
     "text": [
      "Concatenated array: [[ 1.  3. 19.  4. 75. 23. 43.  2. 33. 15. 68.  5. 84. 72. 85. 29. 44. 61.\n",
      "  28. 86.]\n",
      " [28. 16. 48. 93. 96. 59. 97. 24. 58. 73. 14. 39. 36. 23. 23. 60. 73. 75.\n",
      "  54. 41.]\n",
      " [ 3. 11. 71. 80. 66.  9. 69. 98. 90. 18. 17. 73. 98. 55. 13. 25. 51. 73.\n",
      "  89. 72.]\n",
      " [86. 42. 14. 60. 39.  7. 54. 21. 75.  2.  1. 70. 67. 40. 77. 36.  8. 44.\n",
      "  69. 22.]\n",
      " [78. 31. 38. 89. 21. 54. 11. 14. 81.  3. 54. 67. 93. 82. 55. 87. 82. 78.\n",
      "  71. 38.]\n",
      " [ 1.  1.  1.  1.  1.  1.  1.  1.  1.  1.  1.  1.  1.  1.  1.  1.  1.  1.\n",
      "   1.  1.]]\n"
     ]
    }
   ],
   "source": [
    "\n",
    "# (2) Create a 1x20 array using np.ones, and concatenate it to the reshaped array along the rows\n",
    "new_array = np.ones((1, 20))\n",
    "concatenated_array = np.concatenate((reshaped_array, new_array), axis=0)\n",
    "print(\"Concatenated array:\", concatenated_array)\n",
    "    "
   ]
  },
  {
   "attachments": {},
   "cell_type": "markdown",
   "metadata": {},
   "source": [
    "### 3. Logical operations and filtering"
   ]
  },
  {
   "cell_type": "code",
   "execution_count": 7,
   "metadata": {},
   "outputs": [
    {
     "name": "stdout",
     "output_type": "stream",
     "text": [
      "Array after setting elements > 50 to 50: [[ 1  3 19  4 50 23 43  2 33 15]\n",
      " [50  5 50 50 50 29 44 50 28 50]\n",
      " [28 16 48 50 50 50 50 24 50 50]\n",
      " [14 39 36 23 23 50 50 50 50 41]\n",
      " [ 3 11 50 50 50  9 50 50 50 18]\n",
      " [17 50 50 50 13 25 50 50 50 50]\n",
      " [50 42 14 50 39  7 50 21 50  2]\n",
      " [ 1 50 50 40 50 36  8 44 50 22]\n",
      " [50 31 38 50 21 50 11 14 50  3]\n",
      " [50 50 50 50 50 50 50 50 50 38]]\n"
     ]
    }
   ],
   "source": [
    "\n",
    "# (1) Use boolean indexing to find all elements greater than 50, and set them to 50\n",
    "arr = np.where(arr > 50, 50, arr)\n",
    "print(\"Array after setting elements > 50 to 50:\", arr)\n",
    "    "
   ]
  },
  {
   "cell_type": "code",
   "execution_count": 8,
   "metadata": {},
   "outputs": [
    {
     "name": "stdout",
     "output_type": "stream",
     "text": [
      "Even number positions: [[0 3]\n",
      " [0 4]\n",
      " [0 7]\n",
      " [1 0]\n",
      " [1 2]\n",
      " [1 3]\n",
      " [1 4]\n",
      " [1 6]\n",
      " [1 7]\n",
      " [1 8]\n",
      " [1 9]\n",
      " [2 0]\n",
      " [2 1]\n",
      " [2 2]\n",
      " [2 3]\n",
      " [2 4]\n",
      " [2 5]\n",
      " [2 6]\n",
      " [2 7]\n",
      " [2 8]\n",
      " [2 9]\n",
      " [3 0]\n",
      " [3 2]\n",
      " [3 5]\n",
      " [3 6]\n",
      " [3 7]\n",
      " [3 8]\n",
      " [4 2]\n",
      " [4 3]\n",
      " [4 4]\n",
      " [4 6]\n",
      " [4 7]\n",
      " [4 8]\n",
      " [4 9]\n",
      " [5 1]\n",
      " [5 2]\n",
      " [5 3]\n",
      " [5 6]\n",
      " [5 7]\n",
      " [5 8]\n",
      " [5 9]\n",
      " [6 0]\n",
      " [6 1]\n",
      " [6 2]\n",
      " [6 3]\n",
      " [6 6]\n",
      " [6 8]\n",
      " [6 9]\n",
      " [7 1]\n",
      " [7 2]\n",
      " [7 3]\n",
      " [7 4]\n",
      " [7 5]\n",
      " [7 6]\n",
      " [7 7]\n",
      " [7 8]\n",
      " [7 9]\n",
      " [8 0]\n",
      " [8 2]\n",
      " [8 3]\n",
      " [8 5]\n",
      " [8 7]\n",
      " [8 8]\n",
      " [9 0]\n",
      " [9 1]\n",
      " [9 2]\n",
      " [9 3]\n",
      " [9 4]\n",
      " [9 5]\n",
      " [9 6]\n",
      " [9 7]\n",
      " [9 8]\n",
      " [9 9]]\n"
     ]
    }
   ],
   "source": [
    "\n",
    "# (2) Find the positions of all even numbers in the array\n",
    "even_positions = np.argwhere(arr % 2 == 0)\n",
    "print(\"Even number positions:\", even_positions)\n",
    "    "
   ]
  },
  {
   "attachments": {},
   "cell_type": "markdown",
   "metadata": {},
   "source": [
    "### 4. Linear algebra operations"
   ]
  },
  {
   "cell_type": "code",
   "execution_count": 9,
   "metadata": {},
   "outputs": [
    {
     "name": "stdout",
     "output_type": "stream",
     "text": [
      "Identity matrix: [[1. 0. 0.]\n",
      " [0. 1. 0.]\n",
      " [0. 0. 1.]]\n"
     ]
    }
   ],
   "source": [
    "\n",
    "# (1) Create a 3x3 identity matrix\n",
    "identity_matrix = np.eye(3)\n",
    "print(\"Identity matrix:\", identity_matrix)\n",
    "    "
   ]
  },
  {
   "cell_type": "code",
   "execution_count": 10,
   "metadata": {},
   "outputs": [
    {
     "name": "stdout",
     "output_type": "stream",
     "text": [
      "Random matrix: [[0.01351419 0.40216112 0.44977255]\n",
      " [0.53285893 0.14279069 0.24491588]\n",
      " [0.81877238 0.45929049 0.29781044]]\n",
      "Inverse matrix: [[-0.95353261  1.18312165  0.46710086]\n",
      " [ 0.57023356 -4.96421912  3.22131319]\n",
      " [ 1.742126    4.40317437 -2.89435048]]\n"
     ]
    }
   ],
   "source": [
    "\n",
    "# (2) Create a 3x3 random matrix and compute its inverse\n",
    "random_matrix = np.random.rand(3, 3)\n",
    "inv_matrix = np.linalg.inv(random_matrix)\n",
    "\n",
    "print(\"Random matrix:\", random_matrix)\n",
    "print(\"Inverse matrix:\", inv_matrix)\n",
    "    "
   ]
  },
  {
   "cell_type": "code",
   "execution_count": 11,
   "metadata": {},
   "outputs": [
    {
     "name": "stdout",
     "output_type": "stream",
     "text": [
      "Matrix product (should be close to identity matrix): [[ 1.00000000e+00 -1.54049102e-16  1.31125118e-17]\n",
      " [-8.83410814e-18  1.00000000e+00 -4.49041393e-17]\n",
      " [ 1.64538676e-17  3.29221542e-16  1.00000000e+00]]\n"
     ]
    }
   ],
   "source": [
    "\n",
    "# (3) Matrix multiplication\n",
    "matrix_product = np.dot(random_matrix, inv_matrix)\n",
    "print(\"Matrix product (should be close to identity matrix):\", matrix_product)\n",
    "    "
   ]
  }
 ],
 "metadata": {
  "kernelspec": {
   "display_name": "Python 3 (ipykernel)",
   "language": "python",
   "name": "python3"
  },
  "language_info": {
   "codemirror_mode": {
    "name": "ipython",
    "version": 3
   },
   "file_extension": ".py",
   "mimetype": "text/x-python",
   "name": "python",
   "nbconvert_exporter": "python",
   "pygments_lexer": "ipython3",
   "version": "3.9.19"
  },
  "vscode": {
   "interpreter": {
    "hash": "17c9cd01fc19a9a90cd2d9717ed1dc76e1753efe3a6cf374e6e0052792c70890"
   }
  }
 },
 "nbformat": 4,
 "nbformat_minor": 4
}
