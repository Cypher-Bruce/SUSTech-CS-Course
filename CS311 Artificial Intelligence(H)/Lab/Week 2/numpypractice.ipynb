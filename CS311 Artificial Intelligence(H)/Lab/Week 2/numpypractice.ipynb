{
 "cells": [
  {
   "cell_type": "markdown",
   "id": "64da1d8e",
   "metadata": {},
   "source": [
    "## Practice\n",
    "\n",
    "1. Create a 10*10 ndarray object, and the matrix boundary value is 1, and the rest are 0.\n"
   ]
  },
  {
   "cell_type": "code",
   "execution_count": 6,
   "id": "035382e3",
   "metadata": {},
   "outputs": [
    {
     "data": {
      "text/plain": [
       "array([[1., 1., 1., 1., 1., 1., 1., 1., 1., 1.],\n",
       "       [1., 0., 0., 0., 0., 0., 0., 0., 0., 1.],\n",
       "       [1., 0., 0., 0., 0., 0., 0., 0., 0., 1.],\n",
       "       [1., 0., 0., 0., 0., 0., 0., 0., 0., 1.],\n",
       "       [1., 0., 0., 0., 0., 0., 0., 0., 0., 1.],\n",
       "       [1., 0., 0., 0., 0., 0., 0., 0., 0., 1.],\n",
       "       [1., 0., 0., 0., 0., 0., 0., 0., 0., 1.],\n",
       "       [1., 0., 0., 0., 0., 0., 0., 0., 0., 1.],\n",
       "       [1., 0., 0., 0., 0., 0., 0., 0., 0., 1.],\n",
       "       [1., 1., 1., 1., 1., 1., 1., 1., 1., 1.]])"
      ]
     },
     "execution_count": 6,
     "metadata": {},
     "output_type": "execute_result"
    }
   ],
   "source": [
    "#1\n",
    "import numpy as np\n",
    "x = np.zeros((10, 10))\n",
    "x[0, :] = 1\n",
    "x[-1, :] = 1\n",
    "x[:, 0] = 1\n",
    "x[:, -1] = 1\n",
    "x"
   ]
  },
  {
   "cell_type": "markdown",
   "id": "8d3b3c80",
   "metadata": {},
   "source": [
    "2. Create a 5*5 matrix with each row being 0 to 4"
   ]
  },
  {
   "cell_type": "code",
   "execution_count": 10,
   "id": "6c26347e",
   "metadata": {},
   "outputs": [
    {
     "data": {
      "text/plain": [
       "array([[0, 1, 2, 3, 4],\n",
       "       [0, 1, 2, 3, 4],\n",
       "       [0, 1, 2, 3, 4],\n",
       "       [0, 1, 2, 3, 4],\n",
       "       [0, 1, 2, 3, 4]])"
      ]
     },
     "execution_count": 10,
     "metadata": {},
     "output_type": "execute_result"
    }
   ],
   "source": [
    "#2\n",
    "x = np.arange(5)\n",
    "np.vstack([x, x, x, x, x])"
   ]
  },
  {
   "cell_type": "markdown",
   "id": "8b226308",
   "metadata": {},
   "source": [
    "3. Create an 8*8 matrix and fill it with a checkerboard pattern, like [[0,1],[1,0]])"
   ]
  },
  {
   "cell_type": "code",
   "execution_count": 13,
   "id": "e83e8494",
   "metadata": {},
   "outputs": [
    {
     "data": {
      "text/plain": [
       "array([[0., 1., 0., 1., 0., 1., 0., 1.],\n",
       "       [1., 0., 1., 0., 1., 0., 1., 0.],\n",
       "       [0., 1., 0., 1., 0., 1., 0., 1.],\n",
       "       [1., 0., 1., 0., 1., 0., 1., 0.],\n",
       "       [0., 1., 0., 1., 0., 1., 0., 1.],\n",
       "       [1., 0., 1., 0., 1., 0., 1., 0.],\n",
       "       [0., 1., 0., 1., 0., 1., 0., 1.],\n",
       "       [1., 0., 1., 0., 1., 0., 1., 0.]])"
      ]
     },
     "execution_count": 13,
     "metadata": {},
     "output_type": "execute_result"
    }
   ],
   "source": [
    "#3\n",
    "x = np.zeros((8, 8))\n",
    "x[::2, 1::2] = 1.\n",
    "x[1::2, ::2] = 1.\n",
    "x"
   ]
  },
  {
   "cell_type": "markdown",
   "id": "04663245",
   "metadata": {},
   "source": [
    "4. output all the odd numbers in the array  \n",
    "   Example:  \n",
    "   in:    arr = np.array([0, 1, 2, 3, 4, 5, 6, 7, 8, 9])  \n",
    "   out:   array([1, 3, 5, 7, 9])  "
   ]
  },
  {
   "cell_type": "code",
   "execution_count": 18,
   "id": "7964df33",
   "metadata": {},
   "outputs": [
    {
     "data": {
      "text/plain": [
       "array([1, 3, 5, 7, 9])"
      ]
     },
     "execution_count": 18,
     "metadata": {},
     "output_type": "execute_result"
    }
   ],
   "source": [
    "#4\n",
    "arr = np.arange(10)\n",
    "arr[arr % 2 == 1]\n"
   ]
  },
  {
   "cell_type": "markdown",
   "id": "fc506104",
   "metadata": {},
   "source": [
    "5. Normalize a 5x5 random matrix.(Z-Score Normalization零均值归一化)"
   ]
  },
  {
   "cell_type": "code",
   "execution_count": 25,
   "id": "972284fd",
   "metadata": {},
   "outputs": [
    {
     "data": {
      "text/plain": [
       "array([[-0.47534048,  0.75945009, -0.04167872, -0.21844627,  0.37054103],\n",
       "       [ 0.44669665,  0.88037662, -1.76626806, -0.60591332,  0.4688628 ],\n",
       "       [-1.40775916,  0.18911164,  1.84253934,  0.99616817,  0.60987908],\n",
       "       [ 0.87256815, -0.14813189,  1.53061517, -1.11161652,  1.71580812],\n",
       "       [-0.89734924, -0.75697008, -1.30042429, -1.34430757, -0.60841127]])"
      ]
     },
     "execution_count": 25,
     "metadata": {},
     "output_type": "execute_result"
    }
   ],
   "source": [
    "#5\n",
    "from numpy.random import default_rng\n",
    "x = default_rng().random((5, 5))\n",
    "x = (x - np.mean(x)) / np.std(x)\n",
    "x"
   ]
  },
  {
   "cell_type": "markdown",
   "id": "df87456c",
   "metadata": {},
   "source": [
    "6. Consider a random 10x2 matrix representing cartesian coordinates, convert them to polar coordinates."
   ]
  },
  {
   "cell_type": "code",
   "execution_count": 28,
   "id": "125feb23",
   "metadata": {},
   "outputs": [
    {
     "data": {
      "text/plain": [
       "(array([1.0458816 , 0.55797964, 0.75845656, 1.06721403, 0.22227568,\n",
       "        0.95575933, 1.09197024, 0.71635189, 1.12906668, 1.21566037]),\n",
       " array([0.6103544 , 1.20334686, 0.789245  , 0.5885365 , 0.28832615,\n",
       "        1.22588594, 0.77597619, 1.07545846, 0.68667408, 0.75335771]))"
      ]
     },
     "execution_count": 28,
     "metadata": {},
     "output_type": "execute_result"
    }
   ],
   "source": [
    "#6\n",
    "x = default_rng().random(10)\n",
    "y = default_rng().random(10)\n",
    "r = np.sqrt(x**2 + y**2)\n",
    "t = np.arctan2(y, x)\n",
    "r, t"
   ]
  },
  {
   "cell_type": "markdown",
   "id": "c1cedf1f",
   "metadata": {},
   "source": [
    "7. Consider the vector [1, 2, 3, 4, 5], how to build a new vector with 3 consecutive zeros interleaved between each value?"
   ]
  },
  {
   "cell_type": "code",
   "execution_count": 48,
   "id": "c8a88dfd",
   "metadata": {},
   "outputs": [
    {
     "data": {
      "text/plain": [
       "array([1, 0, 0, 0, 2, 0, 0, 0, 3, 0, 0, 0, 4, 0, 0, 0, 5])"
      ]
     },
     "execution_count": 48,
     "metadata": {},
     "output_type": "execute_result"
    }
   ],
   "source": [
    "#7\n",
    "arr = np.arange(5) + 1\n",
    "x = np.zeros(len(arr) * 4 - 3, dtype = int)\n",
    "x[::4] = arr\n",
    "x\n"
   ]
  },
  {
   "cell_type": "markdown",
   "id": "c7ea103c",
   "metadata": {},
   "source": [
    "8. What are the result of the following expressions?\n",
    "\n",
    "0 * np.nan\n",
    "\n",
    "np.nan == np.nan\n",
    "\n",
    "np.inf > np.nan\n",
    "\n",
    "np.nan - np.nan\n",
    "\n",
    "np.nan in set([np.nan])\n",
    "\n",
    "0.3 == 3 * 0.1 \n",
    "\n",
    "(hint1:nan means not a number \n",
    "hint2:0.1(10) == 0.0001100110011001100110011001100110011001100110011...(2))\n",
    "First guess a result, then print the result, and finally find why"
   ]
  },
  {
   "cell_type": "code",
   "execution_count": 54,
   "id": "ee65170c",
   "metadata": {},
   "outputs": [
    {
     "data": {
      "text/plain": [
       "False"
      ]
     },
     "execution_count": 54,
     "metadata": {},
     "output_type": "execute_result"
    }
   ],
   "source": [
    "#8\n",
    "0 * np.nan\n",
    "\n",
    "np.nan == np.nan\n",
    "\n",
    "np.inf > np.nan\n",
    "\n",
    "np.nan - np.nan\n",
    "\n",
    "np.nan in set([np.nan])\n",
    "\n",
    "0.3 == 3 * 0.1 "
   ]
  },
  {
   "cell_type": "markdown",
   "id": "7218ef9e",
   "metadata": {},
   "source": [
    "9. What are the result of the following expressions? (Hint: the type of pn.nan is float)\n",
    "\n",
    "np.array(0) / np.array(0)\n",
    "\n",
    "np.array(0) // np.array(0)\n",
    "\n",
    "np.array([np.nan]).astype(int).astype(float)\n",
    "\n",
    "\n",
    "First guess a result, then print the result, and finally find why "
   ]
  },
  {
   "cell_type": "code",
   "execution_count": 56,
   "id": "cc0b2732",
   "metadata": {},
   "outputs": [
    {
     "name": "stderr",
     "output_type": "stream",
     "text": [
      "/tmp/ipykernel_3053/2387531771.py:2: RuntimeWarning: divide by zero encountered in floor_divide\n",
      "  np.array(0) // np.array(0)\n"
     ]
    },
    {
     "data": {
      "text/plain": [
       "0"
      ]
     },
     "execution_count": 56,
     "metadata": {},
     "output_type": "execute_result"
    }
   ],
   "source": [
    "#9\n",
    "np.array(0) // np.array(0)"
   ]
  }
 ],
 "metadata": {
  "kernelspec": {
   "display_name": "Python 3",
   "language": "python",
   "name": "python3"
  },
  "language_info": {
   "codemirror_mode": {
    "name": "ipython",
    "version": 3
   },
   "file_extension": ".py",
   "mimetype": "text/x-python",
   "name": "python",
   "nbconvert_exporter": "python",
   "pygments_lexer": "ipython3",
   "version": "3.10.12"
  }
 },
 "nbformat": 4,
 "nbformat_minor": 5
}
