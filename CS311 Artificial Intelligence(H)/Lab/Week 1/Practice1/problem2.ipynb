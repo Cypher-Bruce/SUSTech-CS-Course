{
 "cells": [
  {
   "cell_type": "code",
   "execution_count": 2,
   "metadata": {
    "pycharm": {
     "name": "#%%\n"
    }
   },
   "outputs": [],
   "source": [
    "def floyd(graph, start, end):\n",
    "    \"\"\"\n",
    "    Args:\n",
    "        graph: a given graph, as an adjacency matrix, the non-connected edge are set to infinity\n",
    "        start: the index of the start vertex\n",
    "        end: the index of the end vertex\n",
    "\n",
    "    Returns:\n",
    "        distance: the distance from the start point to the end point.\n",
    "\n",
    "    sample:\n",
    "    input (file):\n",
    "    1          =>neighbors of node 0\n",
    "    6          =>distances of (0,1)\n",
    "    2 4        =>neighbors of node 1\n",
    "    3 10       =>distances of (1,2) (1,4)\n",
    "    3          =>neighbors of node 2\n",
    "    7          =>distances of node (2,3)\n",
    "    4          =>neighbors of node 3\n",
    "    9          =>distances of node (3,4)\n",
    "    0 3        =>neighbors of node 4\n",
    "    3 9        =>distances of node (4,0) (4,3)\n",
    "\n",
    "    graph: a distance matrix from above file\n",
    "    [[0, 6.0, inf, inf, inf],\n",
    "    [inf, 0, 3.0, inf, 10.0],\n",
    "    [inf, inf, 0, 7.0, inf],\n",
    "    [inf, inf, inf, 0, 9.0],\n",
    "    [3.0, inf, inf, 9.0, 0]]\n",
    "\n",
    "    output:\n",
    "    16\n",
    "    \"\"\"\n",
    "\n",
    "    ##############\n",
    "    #  Please write your own code in the given space.\n",
    "    #############\n",
    "\n",
    "    #graph = [[]] # you should build a distance matrix (from the original graph) which include all the distances between any two vertexs.\n",
    "\n",
    "    for i in range(len(graph)):\n",
    "        for j in range(len(graph)):\n",
    "            for k in range(len(graph)):\n",
    "                if graph[j][i] + graph[i][k] < graph[j][k]:\n",
    "                    graph[j][k] = graph[j][i] + graph[i][k]\n",
    "\n",
    "    #############\n",
    "\n",
    "    distance = graph[start][end]\n",
    "\n",
    "    return distance"
   ]
  },
  {
   "cell_type": "code",
   "execution_count": 4,
   "metadata": {
    "pycharm": {
     "name": "#%%\n"
    }
   },
   "outputs": [
    {
     "name": "stdout",
     "output_type": "stream",
     "text": [
      "[[0, 20.0, inf, 87.0, inf, 75.0, 29.0, inf, inf, inf, inf, inf, inf, inf, 89.0, 31.0, 37.0, inf, inf, inf, inf, 16.0, inf, inf, 31.0, inf, 31.0, inf, inf, 71.0], [inf, 0, 81.0, inf, 42.0, inf, inf, 53.0, inf, 37.0, inf, inf, inf, inf, inf, inf, inf, inf, inf, inf, inf, inf, inf, inf, 41.0, 51.0, 14.0, 67.0, 43.0, 68.0], [81.0, inf, 0, 57.0, inf, inf, inf, inf, inf, inf, inf, inf, inf, inf, inf, inf, inf, inf, 49.0, inf, inf, 65.0, inf, inf, inf, 30.0, 72.0, inf, 83.0, inf], [inf, inf, 57.0, 0, 98.0, 16.0, inf, 93.0, inf, inf, inf, inf, inf, inf, 20.0, inf, inf, inf, inf, 6.0, inf, inf, inf, inf, inf, inf, inf, inf, inf, inf], [inf, inf, inf, inf, 0, 89.0, inf, inf, 78.0, inf, 25.0, inf, inf, 67.0, inf, inf, inf, inf, inf, inf, inf, 24.0, 58.0, 36.0, inf, 51.0, inf, 51.0, 81.0, 73.0], [inf, 60.0, inf, 16.0, inf, 0, 69.0, inf, 18.0, inf, inf, 59.0, inf, 60.0, 15.0, inf, inf, inf, 70.0, inf, inf, inf, 57.0, inf, inf, 51.0, inf, inf, inf, 46.0], [inf, 16.0, inf, inf, inf, inf, 0, 67.0, 70.0, inf, inf, inf, inf, inf, inf, 13.0, 54.0, inf, inf, inf, inf, inf, inf, inf, inf, inf, inf, inf, inf, inf], [inf, inf, 62.0, inf, inf, inf, inf, 0, 73.0, inf, 22.0, 35.0, 81.0, inf, inf, inf, inf, 69.0, 17.0, 92.0, inf, 30.0, inf, inf, 17.0, inf, inf, inf, 87.0, inf], [inf, inf, inf, inf, inf, inf, inf, 73.0, 0, 32.0, 53.0, 50.0, inf, 66.0, inf, inf, inf, inf, inf, inf, inf, inf, inf, inf, inf, inf, inf, inf, 40.0, inf], [inf, inf, inf, 51.0, inf, inf, inf, 42.0, 32.0, 0, 22.0, 21.0, inf, inf, 60.0, 42.0, inf, inf, 24.0, inf, 21.0, 25.0, inf, inf, 24.0, 14.0, inf, 35.0, inf, inf], [27.0, 35.0, inf, inf, 25.0, inf, inf, inf, inf, inf, 0, 14.0, inf, 61.0, inf, inf, inf, 52.0, 8.0, inf, inf, inf, inf, inf, 5.0, 26.0, inf, inf, inf, inf], [inf, 21.0, inf, inf, inf, inf, inf, 35.0, inf, 21.0, 14.0, 0, 46.0, inf, inf, inf, inf, inf, inf, 66.0, inf, inf, inf, inf, inf, 32.0, inf, inf, inf, inf], [inf, inf, inf, inf, 71.0, inf, inf, inf, inf, inf, inf, inf, 0, 11.0, 56.0, inf, 57.0, inf, inf, inf, 34.0, inf, inf, inf, inf, inf, 24.0, inf, inf, inf], [inf, inf, inf, 76.0, inf, inf, inf, inf, 66.0, inf, 61.0, inf, inf, 0, 68.0, 16.0, inf, inf, inf, inf, inf, inf, 10.0, inf, inf, inf, 28.0, inf, inf, inf], [89.0, 72.0, inf, inf, inf, 15.0, inf, inf, inf, inf, inf, inf, inf, inf, 0, 66.0, inf, inf, inf, inf, inf, inf, inf, 88.0, inf, inf, inf, inf, 34.0, inf], [31.0, 11.0, inf, inf, inf, inf, 13.0, inf, inf, inf, 45.0, inf, inf, inf, inf, 0, 45.0, inf, inf, inf, inf, inf, inf, inf, inf, inf, inf, inf, inf, inf], [inf, 38.0, inf, inf, inf, 53.0, inf, 34.0, inf, inf, inf, inf, inf, inf, inf, inf, 0, 55.0, inf, 58.0, inf, inf, 51.0, 21.0, 16.0, inf, inf, inf, inf, inf], [31.0, inf, inf, 83.0, inf, inf, inf, inf, inf, 53.0, inf, 38.0, 23.0, inf, inf, inf, inf, 0, 61.0, inf, inf, inf, inf, inf, 58.0, 68.0, inf, inf, inf, inf], [35.0, inf, inf, inf, 28.0, inf, 59.0, inf, 55.0, inf, inf, 22.0, inf, 69.0, inf, inf, 16.0, 60.0, 0, 75.0, inf, inf, inf, 10.0, inf, inf, 43.0, inf, 71.0, 45.0], [inf, inf, 61.0, 6.0, 96.0, 9.0, inf, inf, inf, 50.0, inf, inf, inf, inf, inf, inf, 58.0, 77.0, inf, 0, 56.0, inf, inf, inf, 74.0, 54.0, 54.0, 75.0, inf, inf], [inf, inf, inf, 59.0, inf, 47.0, inf, 48.0, inf, 21.0, inf, inf, inf, inf, inf, 21.0, inf, inf, inf, inf, 0, 19.0, inf, 42.0, inf, inf, inf, inf, inf, inf], [inf, 23.0, inf, inf, inf, inf, 38.0, 30.0, inf, inf, 12.0, inf, inf, 50.0, inf, inf, inf, inf, inf, inf, inf, 0, 40.0, inf, 18.0, inf, inf, inf, inf, inf], [inf, inf, 92.0, inf, inf, inf, 11.0, inf, inf, inf, 51.0, inf, inf, inf, inf, inf, 51.0, inf, inf, 67.0, inf, inf, 0, 69.0, 57.0, 63.0, inf, inf, inf, inf], [inf, inf, inf, 75.0, 36.0, inf, inf, 20.0, inf, inf, inf, 32.0, inf, inf, inf, inf, inf, 70.0, 10.0, inf, 42.0, inf, inf, 0, 13.0, inf, inf, inf, inf, inf], [31.0, inf, inf, inf, 26.0, inf, 56.0, 17.0, inf, inf, inf, inf, 66.0, inf, inf, 50.0, inf, inf, 3.0, inf, 32.0, inf, inf, inf, 0, 26.0, 41.0, inf, inf, inf], [51.0, 51.0, inf, 53.0, 51.0, inf, inf, 41.0, inf, inf, 26.0, 32.0, inf, inf, inf, inf, inf, inf, inf, inf, 35.0, 35.0, inf, inf, inf, 0, 43.0, inf, inf, 21.0], [inf, inf, inf, inf, inf, inf, inf, inf, inf, inf, inf, inf, inf, inf, 58.0, inf, inf, 26.0, inf, inf, inf, 27.0, inf, inf, inf, inf, 0, 63.0, inf, 57.0], [60.0, inf, 29.0, 74.0, inf, 74.0, inf, inf, inf, inf, inf, inf, inf, 91.0, 89.0, inf, inf, inf, 25.0, 75.0, inf, inf, inf, 15.0, inf, inf, inf, 0, 85.0, inf], [inf, inf, inf, inf, inf, 29.0, inf, inf, inf, inf, 64.0, 52.0, inf, inf, 34.0, inf, 56.0, 44.0, inf, inf, 38.0, inf, 34.0, inf, 69.0, inf, inf, 84.0, 0, 66.0], [71.0, inf, 17.0, inf, inf, inf, inf, 61.0, 27.0, 31.0, inf, 52.0, 77.0, 84.0, inf, inf, 34.0, 83.0, inf, inf, inf, 55.0, inf, inf, 47.0, inf, inf, 34.0, inf, 0]]\n",
      "71.0\n"
     ]
    }
   ],
   "source": [
    "# test block\n",
    "test_case = 2\n",
    "with open(f'test_cases/problem2/{test_case}.txt', 'r') as f:\n",
    "    content = f.read().strip()\n",
    "    lines = content.split('\\n')\n",
    "n = len(lines) // 2\n",
    "graph = [[float('inf')] * n for _ in range(n)]\n",
    "for i in range(n):\n",
    "    graph[i][i] = 0\n",
    "for i in range(n):\n",
    "    neighbors = [*map(int, lines[2 * i].strip().split(' '))]\n",
    "    distances = [*map(float, lines[2 * i + 1].strip().split(' '))]\n",
    "    for j in range(len(neighbors)):\n",
    "        k = neighbors[j]\n",
    "        graph[i][k] = distances[j]\n",
    "print(graph)\n",
    "print(floyd(graph, 0, n - 1))"
   ]
  }
 ],
 "metadata": {
  "interpreter": {
   "hash": "6eea70d608ba4e65e3b5d32ac8522b4d78d39b471a2766e116e1911c1dde4fb7"
  },
  "kernelspec": {
   "display_name": "Python 3",
   "language": "python",
   "name": "python3"
  },
  "language_info": {
   "codemirror_mode": {
    "name": "ipython",
    "version": 3
   },
   "file_extension": ".py",
   "mimetype": "text/x-python",
   "name": "python",
   "nbconvert_exporter": "python",
   "pygments_lexer": "ipython3",
   "version": "3.10.12"
  }
 },
 "nbformat": 4,
 "nbformat_minor": 1
}
