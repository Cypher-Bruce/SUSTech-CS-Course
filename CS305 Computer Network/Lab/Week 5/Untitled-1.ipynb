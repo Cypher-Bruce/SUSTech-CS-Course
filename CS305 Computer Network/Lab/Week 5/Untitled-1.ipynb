{
 "cells": [
  {
   "cell_type": "code",
   "execution_count": 3,
   "metadata": {},
   "outputs": [
    {
     "name": "stdout",
     "output_type": "stream",
     "text": [
      "\n",
      "Query: www.sina.com.cn - Type: A\n",
      "Answer Section:\n",
      "www.sina.com.cn. 60 IN CNAME spool.grid.sinaedge.com.\n",
      "spool.grid.sinaedge.com. 60 IN A 121.194.5.14\n",
      "Response is not from an authoritative name server.\n",
      "\n",
      "Final Answer from 8.8.8.8:\n",
      "www.sina.com.cn. 60 IN CNAME spool.grid.sinaedge.com.\n",
      "spool.grid.sinaedge.com. 60 IN A 121.194.5.14\n"
     ]
    }
   ],
   "source": [
    "import dns.resolver\n",
    "import dns.message\n",
    "import dns.query\n",
    "import dns.rdatatype\n",
    "\n",
    "def recursive_query(query_name, query_type):\n",
    "    query = dns.message.make_query(query_name, query_type, want_dnssec=False)\n",
    "    query.flags |= 1\n",
    "\n",
    "    response = dns.query.udp(query, '8.8.8.8')\n",
    "\n",
    "    print(f\"\\nQuery: {query_name} - Type: {query_type}\")\n",
    "    print(\"Answer Section:\")\n",
    "    for answer in response.answer:\n",
    "        print(answer)\n",
    "\n",
    "    is_authoritative = False\n",
    "    if response.flags & dns.flags.AA:\n",
    "        is_authoritative = True\n",
    "        print(\"Response is from an authoritative name server.\")\n",
    "    else:\n",
    "        print(\"Response is not from an authoritative name server.\")\n",
    "\n",
    "    return response, is_authoritative\n",
    "\n",
    "\n",
    "def iterative_query(query_name, query_type):\n",
    "    current_ns = '8.8.8.8'\n",
    "    while True:\n",
    "        query = dns.message.make_query(query_name, query_type, want_dnssec=False)\n",
    "        query.flags |= 0\n",
    "\n",
    "        response = dns.query.udp(query, current_ns)\n",
    "\n",
    "        if response.answer:\n",
    "            print(f\"\\nFinal Answer from {current_ns}:\")\n",
    "            for answer in response.answer:\n",
    "                print(answer)\n",
    "            break\n",
    "        else:\n",
    "            if response.additional:\n",
    "                for rrset in response.additional:\n",
    "                    if rrset.rdtype == dns.rdatatype.A:\n",
    "                        current_ns = rrset[0].address\n",
    "                        break\n",
    "            else:\n",
    "                ns_rrset = response.authority[0]\n",
    "                ns_name = ns_rrset[0].target\n",
    "                ns_response = dns.resolver.resolve(ns_name, 'A')\n",
    "                current_ns = ns_response[0].address\n",
    "\n",
    "\n",
    "# Example usage\n",
    "if __name__ == \"__main__\":\n",
    "    recursive_query('www.sina.com.cn', 'A')\n",
    "    iterative_query('www.sina.com.cn', 'A')\n"
   ]
  }
 ],
 "metadata": {
  "kernelspec": {
   "display_name": "Python 3",
   "language": "python",
   "name": "python3"
  },
  "language_info": {
   "codemirror_mode": {
    "name": "ipython",
    "version": 3
   },
   "file_extension": ".py",
   "mimetype": "text/x-python",
   "name": "python",
   "nbconvert_exporter": "python",
   "pygments_lexer": "ipython3",
   "version": "3.10.6"
  }
 },
 "nbformat": 4,
 "nbformat_minor": 2
}
