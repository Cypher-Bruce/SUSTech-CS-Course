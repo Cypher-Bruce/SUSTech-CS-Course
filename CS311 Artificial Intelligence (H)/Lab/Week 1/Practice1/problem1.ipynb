{
 "cells": [
  {
   "cell_type": "code",
   "execution_count": 1,
   "metadata": {},
   "outputs": [],
   "source": [
    "def two_sum(sequence, t):\n",
    "    \"\"\"\n",
    "    Args:\n",
    "        sequence: the given sequence is an ascending sequence (type: list) \n",
    "        t: the given target number, which should be the sum of two selected integers.\n",
    "\n",
    "    Returns:\n",
    "        res: A list of tuple. And each tuple would be the idx of two selected integers.\n",
    "    Example:\n",
    "        input:\n",
    "        1 2 3 4\n",
    "        5\n",
    "        output:\n",
    "        0 3\n",
    "        1 2\n",
    "\n",
    "    \"\"\"\n",
    "    res = []\n",
    "\n",
    "    ##############\n",
    "    #  Please write your own code in the given space.\n",
    "    #############\n",
    "    for i in range(len(sequence)):\n",
    "        for j in range(i+1,len(sequence)):\n",
    "            if sequence[i]+sequence[j] == t:\n",
    "                res.append((i,j))\n",
    "    #############\n",
    "\n",
    "    return res"
   ]
  },
  {
   "cell_type": "code",
   "execution_count": 2,
   "metadata": {
    "pycharm": {
     "name": "#%%\n"
    }
   },
   "outputs": [
    {
     "name": "stdout",
     "output_type": "stream",
     "text": [
      "case 0\n",
      "0 3\n",
      "1 2\n",
      "case 1\n",
      "2 19\n",
      "4 17\n",
      "case 2\n",
      "9 181\n",
      "30 159\n",
      "43 143\n",
      "56 130\n",
      "59 123\n",
      "61 122\n",
      "84 99\n",
      "88 94\n"
     ]
    }
   ],
   "source": [
    "# test block\n",
    "for i in range(3):\n",
    "    print(f'case {i}')\n",
    "    with open(f'./test_cases/problem1/{i + 1}.txt', 'r') as f:\n",
    "        seq, tar = f.read().strip().split('\\n')\n",
    "        seq = [*map(int, seq.split(' '))]\n",
    "        tar = int(tar)\n",
    "\n",
    "    for item in two_sum(seq, tar):\n",
    "        print('%d %d' % item)"
   ]
  }
 ],
 "metadata": {
  "kernelspec": {
   "display_name": "Python 3",
   "language": "python",
   "name": "python3"
  },
  "language_info": {
   "codemirror_mode": {
    "name": "ipython",
    "version": 3
   },
   "file_extension": ".py",
   "mimetype": "text/x-python",
   "name": "python",
   "nbconvert_exporter": "python",
   "pygments_lexer": "ipython3",
   "version": "3.10.12"
  }
 },
 "nbformat": 4,
 "nbformat_minor": 1
}
